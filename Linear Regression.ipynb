{
 "cells": [
  {
   "cell_type": "markdown",
   "id": "1cdd4904",
   "metadata": {},
   "source": [
    "# Appendix C: Linear Regression"
   ]
  },
  {
   "cell_type": "markdown",
   "id": "0f862117",
   "metadata": {},
   "source": [
    "While the data is not expected to follow a simple linear trend, a linear regression model was fitted to the data. This will help confirm that a non-linear approach must be used instead."
   ]
  },
  {
   "cell_type": "code",
   "execution_count": 2,
   "id": "891e8d41",
   "metadata": {},
   "outputs": [],
   "source": [
    "import pandas as pd\n",
    "import numpy as np\n",
    "from matplotlib import pyplot as plt\n",
    "import seaborn as sns\n",
    "import warnings\n",
    "warnings.filterwarnings('ignore')"
   ]
  },
  {
   "cell_type": "markdown",
   "id": "38970350",
   "metadata": {},
   "source": [
    "The data is read into python from a single .csv file containing all of the Victorian data from 2000 to 2020. Only data from 2015 to 2020 is used for analysis."
   ]
  },
  {
   "cell_type": "code",
   "execution_count": 3,
   "id": "dc891377",
   "metadata": {},
   "outputs": [],
   "source": [
    "#%% Reading data\n",
    "VIC_data = pd.read_csv('VIC_Data_Compiled.csv')\n",
    "VIC_data.set_index(pd.to_datetime(VIC_data.date), inplace=True)\n",
    "start = pd.Timestamp(\"2015-01-01 00:00:00\")\n",
    "end = pd.Timestamp(\"2020-01-01 00:00:00\")\n",
    "VIC_data = VIC_data[start:end]\n",
    "VIC_data_full = VIC_data\n",
    "\n",
    "y = VIC_data.iloc[:, 1].values.reshape(-1,1) #Target variable (energy demand)\n",
    "X = VIC_data.iloc[:, 3].values.reshape(-1,1) #Feature variable (air temperature)"
   ]
  },
  {
   "cell_type": "markdown",
   "id": "bf41ac12",
   "metadata": {},
   "source": [
    "The data is normalised to ensure accurate modelling, without the differing magnitudes of the variables skewing the model. An 80/20 train-test split is performed on the data before it is modelled."
   ]
  },
  {
   "cell_type": "code",
   "execution_count": 4,
   "id": "5642c3c9",
   "metadata": {},
   "outputs": [],
   "source": [
    "#%% Normalisation\n",
    "X = (X-np.mean(X))/np.std(X)\n",
    "y = (y-np.mean(y))/np.std(y)"
   ]
  },
  {
   "cell_type": "code",
   "execution_count": 5,
   "id": "ebdf9401",
   "metadata": {},
   "outputs": [],
   "source": [
    "#%% T-T Split\n",
    "from sklearn.model_selection import train_test_split\n",
    "X_train, X_test, y_train, y_test = train_test_split(X, y, test_size = 0.2, random_state = 1) "
   ]
  },
  {
   "cell_type": "markdown",
   "id": "9dc5c629",
   "metadata": {},
   "source": [
    "The model is then fit, and used to calculate goodness of fit and error metrics."
   ]
  },
  {
   "cell_type": "code",
   "execution_count": 6,
   "id": "2cc7cc26",
   "metadata": {},
   "outputs": [],
   "source": [
    "from sklearn.linear_model import LinearRegression\n",
    "\n",
    "linreg = LinearRegression().fit(X_train, y_train)"
   ]
  },
  {
   "cell_type": "code",
   "execution_count": 7,
   "id": "8c26058d",
   "metadata": {},
   "outputs": [
    {
     "name": "stdout",
     "output_type": "stream",
     "text": [
      "Root Mean Square Error: 0.9821\n",
      "Mean Absolute Error: 0.7957\n",
      "R2: 0.0208\n"
     ]
    }
   ],
   "source": [
    "#%% Error Metrics\n",
    "y_pred = linreg.predict(X_test) \n",
    "\n",
    "\n",
    "from sklearn.metrics import mean_squared_error\n",
    "MSE = mean_squared_error(y_test, y_pred)\n",
    "RMSE = np.sqrt(MSE)\n",
    "print(f\"Root Mean Square Error: {RMSE:.4f}\")\n",
    "\n",
    "from sklearn.metrics import mean_absolute_error\n",
    "MAE = mean_absolute_error(y_test, y_pred)\n",
    "print(f\"Mean Absolute Error: {MAE:.4f}\")\n",
    "\n",
    "from sklearn.metrics import r2_score\n",
    "R2 = r2_score(y_test, y_pred)\n",
    "print(f\"R2: {R2:.4f}\")"
   ]
  },
  {
   "cell_type": "code",
   "execution_count": 8,
   "id": "a3076f2e",
   "metadata": {},
   "outputs": [
    {
     "data": {
      "image/png": "[encoded data removed]",
      "text/plain": [
       "<Figure size 432x288 with 1 Axes>"
      ]
     },
     "metadata": {
      "needs_background": "light"
     },
     "output_type": "display_data"
    }
   ],
   "source": [
    "X_plot = X_test\n",
    "y_plot = y_test \n",
    "y_pred_plot = linreg.predict(X_plot) \n",
    "y_pred_plot = y_pred_plot\n",
    "\n",
    "plt.scatter(x = X_plot, y = y_plot, label = \"Data\")\n",
    "plt.scatter(X_plot,y_pred_plot, label = \"Linear Model\", color = 'orange')\n",
    "plt.title(\"Energy Demand vs Temperature | Victoria\")\n",
    "plt.xlabel(\"Temperature (°C)\")\n",
    "plt.ylabel(\"Energy Demand (MW)\")\n",
    "plt.legend(loc='upper left', shadow=True, fontsize='x-large')\n",
    "plt.show()"
   ]
  },
  {
   "cell_type": "markdown",
   "id": "89737247",
   "metadata": {},
   "source": [
    "Due to the low goodness of fit, this model will not be used. Instead, non-linear modelling will be undertaken and used to forecast future values. No regularisation or parameter tuning has been undertaken, as there is no reason to continue improving this flawed model."
   ]
  }
 ],
 "metadata": {
  "kernelspec": {
   "display_name": "Python 3 (ipykernel)",
   "language": "python",
   "name": "python3"
  },
  "language_info": {
   "codemirror_mode": {
    "name": "ipython",
    "version": 3
   },
   "file_extension": ".py",
   "mimetype": "text/x-python",
   "name": "python",
   "nbconvert_exporter": "python",
   "pygments_lexer": "ipython3",
   "version": "3.9.12"
  }
 },
 "nbformat": 4,
 "nbformat_minor": 5
}
